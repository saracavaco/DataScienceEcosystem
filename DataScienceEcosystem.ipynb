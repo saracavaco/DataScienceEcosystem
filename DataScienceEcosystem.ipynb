{
 "cells": [
  {
   "cell_type": "markdown",
   "id": "874a8cd3",
   "metadata": {},
   "source": [
    "# Data Science Tools and Ecosystem"
   ]
  },
  {
   "cell_type": "markdown",
   "id": "40c1af8b",
   "metadata": {},
   "source": [
    "## In this notebook, Data Science Tools and Ecosystem are summarized."
   ]
  },
  {
   "cell_type": "markdown",
   "id": "36a9147b",
   "metadata": {},
   "source": [
    "Some of the popular languages that Data Scientists use are:"
   ]
  },
  {
   "cell_type": "markdown",
   "id": "b9a92f0c",
   "metadata": {},
   "source": [
    "1. R\n",
    "1. Phyton\n",
    "1. SQL"
   ]
  },
  {
   "cell_type": "markdown",
   "id": "3c859281",
   "metadata": {},
   "source": [
    "Some of the commonly used libraries used by Data Scientists include: \n",
    "    1. TensorFlow\n",
    "    1. NumPy\n",
    "    1. SciPy\n",
    " "
   ]
  },
  {
   "cell_type": "markdown",
   "id": "08859cbb",
   "metadata": {},
   "source": [
    "1. TensorFlow\n",
    "1. NumPy\n",
    "1. SciPy"
   ]
  },
  {
   "cell_type": "markdown",
   "id": "f65d158e",
   "metadata": {},
   "source": [
    "Data Science Tools |\n",
    "----|\n",
    "keras |\n",
    "julia |\n",
    "matlab |"
   ]
  },
  {
   "cell_type": "markdown",
   "id": "a4529f96",
   "metadata": {},
   "source": [
    "### Below are a few examples of evaluating arithmetic expressions in Python"
   ]
  },
  {
   "cell_type": "code",
   "execution_count": 28,
   "id": "72f60452",
   "metadata": {},
   "outputs": [
    {
     "data": {
      "text/plain": [
       "17"
      ]
     },
     "execution_count": 28,
     "metadata": {},
     "output_type": "execute_result"
    }
   ],
   "source": [
    "#This a simple arithmetic expression to mutiply then add integers\n",
    "(3*4)+5\n"
   ]
  },
  {
   "cell_type": "code",
   "execution_count": 27,
   "id": "1e9707c6",
   "metadata": {},
   "outputs": [
    {
     "data": {
      "text/plain": [
       "3.3333333333333335"
      ]
     },
     "execution_count": 27,
     "metadata": {},
     "output_type": "execute_result"
    }
   ],
   "source": [
    "# This will convert 200 minutes to hours by diving by 60\n",
    "200/60"
   ]
  },
  {
   "cell_type": "markdown",
   "id": "524e60e1",
   "metadata": {},
   "source": [
    "# Objectives\n",
    "- List popular languages for Data Science\n",
    "- List Data Science Tools\n",
    "- List data scince libraries."
   ]
  },
  {
   "cell_type": "markdown",
   "id": "8c531043",
   "metadata": {},
   "source": [
    "## Author\n",
    "Sara Cavaco"
   ]
  },
  {
   "cell_type": "code",
   "execution_count": null,
   "id": "3ff8a58c",
   "metadata": {},
   "outputs": [],
   "source": []
  }
 ],
 "metadata": {
  "kernelspec": {
   "display_name": "Python 3 (ipykernel)",
   "language": "python",
   "name": "python3"
  },
  "language_info": {
   "codemirror_mode": {
    "name": "ipython",
    "version": 3
   },
   "file_extension": ".py",
   "mimetype": "text/x-python",
   "name": "python",
   "nbconvert_exporter": "python",
   "pygments_lexer": "ipython3",
   "version": "3.10.9"
  }
 },
 "nbformat": 4,
 "nbformat_minor": 5
}
